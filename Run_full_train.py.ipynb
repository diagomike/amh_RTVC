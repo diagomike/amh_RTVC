{
 "cells": [
  {
   "cell_type": "markdown",
   "id": "847d5c68",
   "metadata": {},
   "source": [
    "Run `python encoder_preprocess.py <datasets_root>` to preprocess the encoder data.\n",
    "Run `python encoder_train.py my_run <datasets_root>/SV2TTS/encoder` to train the encoder. You can use visdom to monitor the training progress.\n",
    "Run `python synthesizer_preprocess_audio.py <datasets_root>` to preprocess the audio and mel spectrograms for the synthesizer.\n",
    "Run `python synthesizer_preprocess_embeds.py <datasets_root>/SV2TTS/synthesizer` to preprocess the embeddings for the synthesizer.\n",
    "Run `python synthesizer_train.py my_run <datasets_root>/SV2TTS/synthesizer` to train the synthesizer.\n",
    "Run `python vocoder_preprocess.py <datasets_root>` to preprocess the data for the vocoder.\n",
    "Run `python vocoder_train.py my_run <datasets_root>` to train the vocoder."
   ]
  },
  {
   "cell_type": "code",
   "execution_count": 5,
   "id": "0778c527",
   "metadata": {},
   "outputs": [
    {
     "name": "stdout",
     "output_type": "stream",
     "text": [
      "Arguments:\n",
      "    datasets_root:   C:\\Users\\Public\\dev-other\n",
      "    out_dir:         C:\\Users\\Public\\dev-other\\SV2TTS\\encoder\n",
      "    datasets:        ['librispeech_other']\n",
      "    skip_existing:   False\n",
      "\n",
      "Preprocessing librispeech_other\n",
      "LibriSpeech/train-other-500: Preprocessing data for 20 speakers.\n",
      "Done preprocessing LibriSpeech/train-other-500.\n",
      "\n"
     ]
    },
    {
     "name": "stderr",
     "output_type": "stream",
     "text": [
      "\n",
      "LibriSpeech/train-other-500:   0%|          | 0/20 [00:00<?, ?speakers/s]\n",
      "LibriSpeech/train-other-500:   5%|5         | 1/20 [00:06<01:54,  6.03s/speakers]\n",
      "LibriSpeech/train-other-500:  25%|##5       | 5/20 [00:06<00:16,  1.08s/speakers]\n",
      "LibriSpeech/train-other-500:  35%|###5      | 7/20 [00:07<00:09,  1.37speakers/s]\n",
      "LibriSpeech/train-other-500:  45%|####5     | 9/20 [00:07<00:06,  1.65speakers/s]\n",
      "LibriSpeech/train-other-500:  55%|#####5    | 11/20 [00:08<00:03,  2.33speakers/s]\n",
      "LibriSpeech/train-other-500:  60%|######    | 12/20 [00:08<00:03,  2.35speakers/s]\n",
      "LibriSpeech/train-other-500:  65%|######5   | 13/20 [00:08<00:02,  2.56speakers/s]\n",
      "LibriSpeech/train-other-500:  70%|#######   | 14/20 [00:09<00:02,  2.74speakers/s]\n",
      "LibriSpeech/train-other-500:  80%|########  | 16/20 [00:09<00:01,  2.73speakers/s]\n",
      "LibriSpeech/train-other-500:  85%|########5 | 17/20 [00:10<00:00,  3.00speakers/s]\n",
      "LibriSpeech/train-other-500:  90%|######### | 18/20 [00:10<00:00,  3.32speakers/s]\n",
      "LibriSpeech/train-other-500: 100%|##########| 20/20 [00:11<00:00,  2.78speakers/s]\n",
      "LibriSpeech/train-other-500: 100%|##########| 20/20 [00:11<00:00,  1.80speakers/s]\n"
     ]
    }
   ],
   "source": [
    "!python encoder_preprocess.py C:\\Users\\Public\\dev-other -d librispeech_other"
   ]
  },
  {
   "cell_type": "code",
   "execution_count": 6,
   "id": "fb54e78d",
   "metadata": {},
   "outputs": [],
   "source": [
    "# skipping encoder training // Because of time\n",
    "# !python encoder_train.py amh_encoder C:\\Users\\Public\\dev-other\\SV2TTS\\encoder"
   ]
  },
  {
   "cell_type": "code",
   "execution_count": null,
   "id": "ce7dc4be",
   "metadata": {},
   "outputs": [],
   "source": [
    "!python synthesizer_preprocess_audio.py C:\\Users\\Public\\dev-other"
   ]
  },
  {
   "cell_type": "code",
   "execution_count": 12,
   "id": "59bcad1b",
   "metadata": {},
   "outputs": [
    {
     "name": "stdout",
     "output_type": "stream",
     "text": [
      "Arguments:\n",
      "    synthesizer_root:      C:\\Users\\Public\\dev-other\\SV2TTS\\synthesizer\n",
      "    encoder_model_fpath:   saved_models\\default\\encoder.pt\n",
      "    n_processes:           4\n",
      "\n",
      "C:\\Users\\Public\\dev-other\\SV2TTS\\synthesizer\n",
      "Loaded encoder \"encoder.pt\" trained to step 1564501\n",
      "Loaded encoder \"encoder.pt\" trained to step 1564501\n",
      "Loaded encoder \"encoder.pt\" trained to step 1564501\n"
     ]
    },
    {
     "name": "stderr",
     "output_type": "stream",
     "text": [
      "\n",
      "Embedding:   0%|          | 0/341 [00:00<?, ?utterances/s]\n",
      "Embedding:   0%|          | 1/341 [00:09<54:42,  9.65s/utterances]\n",
      "Embedding:   1%|1         | 5/341 [00:10<08:28,  1.51s/utterances]\n",
      "Embedding:   2%|2         | 7/341 [00:10<05:22,  1.04utterances/s]\n",
      "Embedding:   3%|2         | 9/341 [00:10<03:39,  1.51utterances/s]\n",
      "Embedding:   4%|3         | 12/341 [00:10<02:19,  2.36utterances/s]\n",
      "Embedding:   4%|4         | 15/341 [00:10<01:29,  3.62utterances/s]\n",
      "Embedding:   5%|4         | 17/341 [00:11<01:19,  4.06utterances/s]\n",
      "Embedding:   6%|5         | 19/341 [00:11<01:03,  5.05utterances/s]\n",
      "Embedding:   6%|6         | 21/341 [00:11<00:57,  5.57utterances/s]\n",
      "Embedding:   7%|6         | 23/341 [00:11<00:46,  6.86utterances/s]\n",
      "Embedding:   7%|7         | 25/341 [00:11<00:47,  6.72utterances/s]\n",
      "Embedding:   8%|7         | 27/341 [00:12<00:43,  7.16utterances/s]\n",
      "Embedding:   9%|8         | 29/341 [00:12<00:37,  8.24utterances/s]\n",
      "Embedding:   9%|9         | 31/341 [00:12<00:36,  8.49utterances/s]\n",
      "Embedding:  10%|9         | 33/341 [00:12<00:34,  9.04utterances/s]\n",
      "Embedding:  10%|#         | 35/341 [00:12<00:32,  9.47utterances/s]\n",
      "Embedding:  11%|#         | 37/341 [00:13<00:29, 10.27utterances/s]\n",
      "Embedding:  12%|#2        | 41/341 [00:13<00:28, 10.65utterances/s]\n",
      "Embedding:  13%|#2        | 43/341 [00:13<00:26, 11.36utterances/s]\n",
      "Embedding:  13%|#3        | 45/341 [00:13<00:24, 12.29utterances/s]\n",
      "Embedding:  14%|#3        | 47/341 [00:13<00:26, 10.98utterances/s]\n",
      "Embedding:  14%|#4        | 49/341 [00:14<00:24, 12.03utterances/s]\n",
      "Embedding:  15%|#4        | 51/341 [00:14<00:26, 11.04utterances/s]\n",
      "Embedding:  16%|#6        | 55/341 [00:14<00:21, 13.12utterances/s]\n",
      "Embedding:  17%|#6        | 57/341 [00:14<00:23, 11.87utterances/s]\n",
      "Embedding:  17%|#7        | 59/341 [00:14<00:25, 11.27utterances/s]\n",
      "Embedding:  18%|#8        | 63/341 [00:15<00:19, 14.43utterances/s]\n",
      "Embedding:  19%|#9        | 65/341 [00:15<00:23, 11.90utterances/s]\n",
      "Embedding:  20%|#9        | 68/341 [00:15<00:28,  9.72utterances/s]\n",
      "Embedding:  21%|##1       | 72/341 [00:16<00:24, 11.08utterances/s]\n",
      "Embedding:  22%|##1       | 74/341 [00:16<00:23, 11.42utterances/s]\n",
      "Embedding:  22%|##2       | 76/341 [00:16<00:25, 10.37utterances/s]\n",
      "Embedding:  23%|##2       | 78/341 [00:16<00:24, 10.66utterances/s]\n",
      "Embedding:  23%|##3       | 80/341 [00:16<00:23, 10.91utterances/s]\n",
      "Embedding:  24%|##4       | 83/341 [00:16<00:20, 12.62utterances/s]\n",
      "Embedding:  25%|##4       | 85/341 [00:17<00:22, 11.24utterances/s]\n",
      "Embedding:  26%|##5       | 88/341 [00:17<00:23, 10.81utterances/s]\n",
      "Embedding:  27%|##6       | 92/341 [00:17<00:20, 12.44utterances/s]\n",
      "Embedding:  28%|##7       | 94/341 [00:17<00:18, 13.40utterances/s]\n",
      "Embedding:  28%|##8       | 96/341 [00:18<00:19, 12.32utterances/s]\n",
      "Embedding:  29%|##8       | 98/341 [00:18<00:18, 13.45utterances/s]\n",
      "Embedding:  29%|##9       | 100/341 [00:18<00:17, 13.65utterances/s]\n",
      "Embedding:  30%|##9       | 102/341 [00:18<00:19, 12.33utterances/s]\n",
      "Embedding:  30%|###       | 104/341 [00:18<00:18, 12.81utterances/s]\n",
      "Embedding:  31%|###1      | 106/341 [00:18<00:22, 10.41utterances/s]\n",
      "Embedding:  32%|###1      | 109/341 [00:19<00:20, 11.46utterances/s]\n",
      "Embedding:  33%|###2      | 112/341 [00:19<00:18, 12.45utterances/s]\n",
      "Embedding:  33%|###3      | 114/341 [00:19<00:21, 10.47utterances/s]\n",
      "Embedding:  34%|###4      | 117/341 [00:19<00:22, 10.15utterances/s]\n",
      "Embedding:  35%|###4      | 119/341 [00:20<00:20, 10.70utterances/s]\n",
      "Embedding:  35%|###5      | 121/341 [00:20<00:19, 11.19utterances/s]\n",
      "Embedding:  36%|###6      | 123/341 [00:20<00:21, 10.31utterances/s]\n",
      "Embedding:  37%|###7      | 127/341 [00:20<00:21,  9.93utterances/s]\n",
      "Embedding:  38%|###8      | 131/341 [00:21<00:17, 12.05utterances/s]\n",
      "Embedding:  39%|###9      | 133/341 [00:21<00:17, 11.96utterances/s]\n",
      "Embedding:  40%|###9      | 135/341 [00:21<00:20,  9.93utterances/s]\n",
      "Embedding:  40%|####      | 137/341 [00:21<00:18, 11.22utterances/s]\n",
      "Embedding:  41%|####      | 139/341 [00:22<00:19, 10.14utterances/s]\n",
      "Embedding:  41%|####1     | 141/341 [00:22<00:18, 11.01utterances/s]\n",
      "Embedding:  42%|####1     | 143/341 [00:22<00:20,  9.74utterances/s]\n",
      "Embedding:  43%|####2     | 145/341 [00:22<00:18, 10.71utterances/s]\n",
      "Embedding:  43%|####3     | 147/341 [00:22<00:19,  9.75utterances/s]\n",
      "Embedding:  44%|####3     | 150/341 [00:23<00:20,  9.16utterances/s]\n",
      "Embedding:  45%|####4     | 153/341 [00:23<00:17, 11.01utterances/s]\n",
      "Embedding:  45%|####5     | 155/341 [00:23<00:17, 10.93utterances/s]\n",
      "Embedding:  46%|####6     | 157/341 [00:23<00:16, 11.37utterances/s]\n",
      "Embedding:  47%|####6     | 159/341 [00:23<00:15, 11.44utterances/s]\n",
      "Embedding:  47%|####7     | 161/341 [00:24<00:15, 11.50utterances/s]\n",
      "Embedding:  48%|####7     | 163/341 [00:24<00:14, 12.51utterances/s]\n",
      "Embedding:  48%|####8     | 165/341 [00:24<00:14, 11.91utterances/s]\n",
      "Embedding:  49%|####9     | 168/341 [00:24<00:18,  9.29utterances/s]\n",
      "Embedding:  50%|#####     | 172/341 [00:24<00:13, 12.44utterances/s]\n",
      "Embedding:  51%|#####1    | 175/341 [00:25<00:11, 15.00utterances/s]\n",
      "Embedding:  52%|#####1    | 177/341 [00:25<00:13, 11.96utterances/s]\n",
      "Embedding:  53%|#####2    | 180/341 [00:25<00:14, 11.07utterances/s]\n",
      "Embedding:  54%|#####3    | 184/341 [00:25<00:13, 11.28utterances/s]\n",
      "Embedding:  55%|#####5    | 188/341 [00:26<00:13, 11.41utterances/s]\n",
      "Embedding:  56%|#####5    | 190/341 [00:26<00:13, 11.25utterances/s]\n",
      "Embedding:  57%|#####6    | 193/341 [00:26<00:15,  9.86utterances/s]\n",
      "Embedding:  57%|#####7    | 196/341 [00:27<00:12, 11.56utterances/s]\n",
      "Embedding:  58%|#####8    | 198/341 [00:27<00:12, 11.58utterances/s]\n",
      "Embedding:  59%|#####8    | 200/341 [00:27<00:11, 11.85utterances/s]\n",
      "Embedding:  59%|#####9    | 202/341 [00:27<00:12, 11.52utterances/s]\n",
      "Embedding:  60%|#####9    | 204/341 [00:27<00:11, 11.84utterances/s]\n",
      "Embedding:  60%|######    | 206/341 [00:27<00:12, 10.69utterances/s]\n",
      "Embedding:  61%|######    | 208/341 [00:28<00:13,  9.98utterances/s]\n",
      "Embedding:  62%|######1   | 211/341 [00:28<00:11, 11.37utterances/s]\n",
      "Embedding:  63%|######2   | 214/341 [00:28<00:09, 12.96utterances/s]\n",
      "Embedding:  63%|######3   | 216/341 [00:28<00:11, 11.22utterances/s]\n",
      "Embedding:  65%|######4   | 220/341 [00:29<00:09, 12.55utterances/s]\n",
      "Embedding:  65%|######5   | 222/341 [00:29<00:10, 11.33utterances/s]\n",
      "Embedding:  66%|######5   | 225/341 [00:29<00:08, 14.05utterances/s]\n",
      "Embedding:  67%|######6   | 227/341 [00:29<00:10, 10.50utterances/s]\n",
      "Embedding:  68%|######7   | 231/341 [00:30<00:09, 11.97utterances/s]\n",
      "Embedding:  68%|######8   | 233/341 [00:30<00:09, 11.65utterances/s]\n",
      "Embedding:  69%|######8   | 235/341 [00:30<00:09, 11.40utterances/s]\n",
      "Embedding:  70%|######9   | 238/341 [00:30<00:07, 13.56utterances/s]\n",
      "Embedding:  70%|#######   | 240/341 [00:30<00:07, 13.37utterances/s]\n",
      "Embedding:  71%|#######1  | 243/341 [00:31<00:09, 10.85utterances/s]\n",
      "Embedding:  72%|#######2  | 246/341 [00:31<00:07, 12.40utterances/s]\n",
      "Embedding:  73%|#######2  | 248/341 [00:31<00:07, 12.80utterances/s]\n",
      "Embedding:  73%|#######3  | 250/341 [00:31<00:07, 12.18utterances/s]\n",
      "Embedding:  74%|#######4  | 254/341 [00:31<00:06, 12.43utterances/s]\n",
      "Embedding:  75%|#######5  | 256/341 [00:32<00:07, 11.98utterances/s]\n",
      "Embedding:  76%|#######5  | 258/341 [00:32<00:06, 11.89utterances/s]\n",
      "Embedding:  76%|#######6  | 260/341 [00:32<00:07, 10.55utterances/s]\n",
      "Embedding:  77%|#######6  | 262/341 [00:32<00:07, 10.82utterances/s]\n",
      "Embedding:  78%|#######8  | 266/341 [00:32<00:05, 13.48utterances/s]\n",
      "Embedding:  79%|#######8  | 268/341 [00:33<00:05, 13.31utterances/s]\n",
      "Embedding:  79%|#######9  | 270/341 [00:33<00:06, 11.66utterances/s]\n",
      "Embedding:  80%|#######9  | 272/341 [00:33<00:05, 11.65utterances/s]\n",
      "Embedding:  80%|########  | 274/341 [00:33<00:05, 11.95utterances/s]\n",
      "Embedding:  81%|########  | 276/341 [00:33<00:05, 11.56utterances/s]\n",
      "Embedding:  82%|########1 | 279/341 [00:34<00:06, 10.10utterances/s]\n",
      "Embedding:  83%|########3 | 284/341 [00:34<00:05, 10.36utterances/s]\n",
      "Embedding:  84%|########4 | 288/341 [00:34<00:04, 11.63utterances/s]\n",
      "Embedding:  85%|########5 | 290/341 [00:35<00:04, 11.23utterances/s]\n",
      "Embedding:  86%|########5 | 292/341 [00:35<00:04, 11.32utterances/s]\n",
      "Embedding:  86%|########6 | 294/341 [00:35<00:03, 12.18utterances/s]\n",
      "Embedding:  87%|########6 | 296/341 [00:35<00:03, 12.33utterances/s]\n",
      "Embedding:  87%|########7 | 298/341 [00:35<00:03, 12.45utterances/s]\n",
      "Embedding:  88%|########7 | 300/341 [00:35<00:03, 13.66utterances/s]\n",
      "Embedding:  89%|########8 | 302/341 [00:36<00:03, 10.58utterances/s]\n",
      "Embedding:  89%|########9 | 305/341 [00:36<00:03,  9.61utterances/s]\n",
      "Embedding:  90%|######### | 307/341 [00:36<00:03, 10.07utterances/s]\n",
      "Embedding:  91%|#########1| 312/341 [00:37<00:02, 10.87utterances/s]\n",
      "Embedding:  92%|#########2| 315/341 [00:37<00:01, 13.21utterances/s]\n",
      "Embedding:  93%|#########2| 317/341 [00:37<00:02, 11.34utterances/s]\n",
      "Embedding:  94%|#########3| 319/341 [00:37<00:01, 11.66utterances/s]\n",
      "Embedding:  94%|#########4| 321/341 [00:37<00:01, 10.67utterances/s]\n",
      "Embedding:  95%|#########4| 323/341 [00:37<00:01, 12.00utterances/s]\n",
      "Embedding:  95%|#########5| 325/341 [00:38<00:01, 11.05utterances/s]\n",
      "Embedding:  96%|#########5| 327/341 [00:38<00:01, 11.49utterances/s]\n",
      "Embedding:  96%|#########6| 329/341 [00:38<00:01, 10.97utterances/s]\n",
      "Embedding:  97%|#########7| 331/341 [00:38<00:00, 11.75utterances/s]\n",
      "Embedding:  98%|#########7| 333/341 [00:38<00:00, 12.75utterances/s]\n",
      "Embedding:  99%|#########8| 336/341 [00:38<00:00, 16.07utterances/s]\n",
      "Embedding:  99%|#########9| 338/341 [00:39<00:00, 10.43utterances/s]\n",
      "Embedding: 100%|##########| 341/341 [00:39<00:00, 12.23utterances/s]\n",
      "Embedding: 100%|##########| 341/341 [00:39<00:00,  8.65utterances/s]\n"
     ]
    }
   ],
   "source": [
    "!python synthesizer_preprocess_embeds.py C:\\Users\\Public\\dev-other\\SV2TTS\\synthesizer "
   ]
  },
  {
   "cell_type": "code",
   "execution_count": 14,
   "id": "2d646751",
   "metadata": {},
   "outputs": [
    {
     "name": "stdout",
     "output_type": "stream",
     "text": [
      "^C\n"
     ]
    }
   ],
   "source": [
    "# On Colab it would be default on cuda\n",
    "!python synthesizer_train.py default C:\\Users\\Public\\dev-other\\SV2TTS\\synthesizer"
   ]
  },
  {
   "cell_type": "code",
   "execution_count": null,
   "id": "909ee025",
   "metadata": {},
   "outputs": [],
   "source": []
  }
 ],
 "metadata": {
  "kernelspec": {
   "display_name": "Python 3 (ipykernel)",
   "language": "python",
   "name": "python3"
  },
  "language_info": {
   "codemirror_mode": {
    "name": "ipython",
    "version": 3
   },
   "file_extension": ".py",
   "mimetype": "text/x-python",
   "name": "python",
   "nbconvert_exporter": "python",
   "pygments_lexer": "ipython3",
   "version": "3.9.9"
  }
 },
 "nbformat": 4,
 "nbformat_minor": 5
}
